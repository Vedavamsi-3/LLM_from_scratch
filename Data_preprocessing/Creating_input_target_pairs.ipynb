{
 "cells": [
  {
   "cell_type": "markdown",
   "id": "4f395100",
   "metadata": {},
   "source": [
    "Creating input-target pairs.\n",
    "\n",
    "Sliding window approach is used here."
   ]
  },
  {
   "cell_type": "markdown",
   "id": "3cb0acfc",
   "metadata": {},
   "source": [
    "Libraries_used"
   ]
  },
  {
   "cell_type": "code",
   "execution_count": 5,
   "id": "55dabea4",
   "metadata": {},
   "outputs": [],
   "source": [
    "import importlib\n",
    "import tiktoken\n",
    "import torch\n",
    "from torch.utils.data import Dataset,DataLoader"
   ]
  },
  {
   "cell_type": "markdown",
   "id": "7a210012",
   "metadata": {},
   "source": [
    "Instantiate BPE tokenizer from tiktoken"
   ]
  },
  {
   "cell_type": "code",
   "execution_count": null,
   "id": "81bac289",
   "metadata": {},
   "outputs": [],
   "source": [
    "tokenizer = tiktoken.get_encoding(\"gpt2\")"
   ]
  },
  {
   "cell_type": "code",
   "execution_count": null,
   "id": "5f0eee2c",
   "metadata": {},
   "outputs": [
    {
     "name": "stdout",
     "output_type": "stream",
     "text": [
      "5145\n"
     ]
    }
   ],
   "source": [
    "with open(\"../Required_files/the-verdict.txt\",\"r\",encoding=\"utf-8\") as f:\n",
    "    raw_text = f.read()\n",
    "\n",
    "enc_text = tokenizer.encode(raw_text)\n",
    "print(len(enc_text))"
   ]
  },
  {
   "cell_type": "markdown",
   "id": "bcb55108",
   "metadata": {},
   "source": [
    "Removing first 50 Tokens"
   ]
  },
  {
   "cell_type": "code",
   "execution_count": null,
   "id": "6c8f0128",
   "metadata": {},
   "outputs": [],
   "source": [
    "enc_sample = enc_text[50:]"
   ]
  },
  {
   "cell_type": "markdown",
   "id": "f858f0e4",
   "metadata": {},
   "source": [
    "Context size\n",
    "\n",
    "It determines how many tokens are to be included in thw input"
   ]
  },
  {
   "cell_type": "code",
   "execution_count": null,
   "id": "cbbc6930",
   "metadata": {},
   "outputs": [
    {
     "name": "stdout",
     "output_type": "stream",
     "text": [
      "x is [290, 4920, 2241, 287]\n",
      "y is      [4920, 2241, 287, 257]\n"
     ]
    }
   ],
   "source": [
    "context_size = 4\n",
    "x = enc_sample[:context_size]\n",
    "y = enc_sample[1:context_size+1]\n",
    "\n",
    "print(\"x is {}\".format(x))\n",
    "print(\"y is      {}\".format(y))\n"
   ]
  },
  {
   "cell_type": "markdown",
   "id": "fae3db50",
   "metadata": {},
   "source": [
    "Sequence in which LLM gets trained for each input"
   ]
  },
  {
   "cell_type": "code",
   "execution_count": null,
   "id": "47b761d2",
   "metadata": {},
   "outputs": [
    {
     "name": "stdout",
     "output_type": "stream",
     "text": [
      "[290] ----> 4920\n",
      " and ---->  established\n",
      "[290, 4920] ----> 2241\n",
      " and established ---->  himself\n",
      "[290, 4920, 2241] ----> 287\n",
      " and established himself ---->  in\n",
      "[290, 4920, 2241, 287] ----> 257\n",
      " and established himself in ---->  a\n"
     ]
    }
   ],
   "source": [
    "for i in range(1,context_size+1):\n",
    "    context = enc_sample[:i]\n",
    "    desired = enc_sample[i]\n",
    "        \n",
    "    print(context,\"---->\",desired)\n",
    "    print(tokenizer.decode(context),\"---->\",tokenizer.decode([desired]))"
   ]
  },
  {
   "cell_type": "markdown",
   "id": "0777f0d3",
   "metadata": {},
   "source": [
    "\n",
    "\n",
    "Pytorch dataset and dataloader are used to create provision for training dataset in batches"
   ]
  },
  {
   "cell_type": "markdown",
   "id": "d3d45cc6",
   "metadata": {},
   "source": [
    "Create a dataset from text file"
   ]
  },
  {
   "cell_type": "code",
   "execution_count": 6,
   "id": "44ef115d",
   "metadata": {},
   "outputs": [],
   "source": [
    "class GPTDataserV1(Dataset):\n",
    "    def __init__(self,txt,tokenizer,max_length,stride):\n",
    "        self.input_ids = []\n",
    "        self.taget_ids = []\n",
    "\n",
    "        # Tokenize the entire text\n",
    "        token_ids = tokenizer.encode(txt,allowed_special={\"<|endoftext|>\"})\n",
    "\n",
    "        # Use sliding window to chink the book inot overlapping seqeunces\n",
    "\n",
    "        for i in range(0,len(token_ids) - max_length,stride):\n",
    "            input_chunk = token_ids[i:i+max_length]\n",
    "            target_chunk = token_ids[i + 1: i + max_length + 1]\n",
    "            self.input_ids.append(torch.tensor(input_chunk))\n",
    "            self.ouput_ids.append(torch.tensor(target_chunk))\n",
    "                                  \n",
    "    def __len__(self):\n",
    "        return len(self.input_ids)\n",
    "    \n",
    "    def __getitem__(self,idx):\n",
    "       return self.input_ids[idx],self.target_ids[idx]\n",
    "            "
   ]
  },
  {
   "cell_type": "markdown",
   "id": "e8320504",
   "metadata": {},
   "source": [
    "Function for dataloader"
   ]
  },
  {
   "cell_type": "code",
   "execution_count": 8,
   "id": "9f718526",
   "metadata": {},
   "outputs": [],
   "source": [
    "def create_dataloader_v1(txt,batch_size = 4, max_length =256,\n",
    "                          stride = 128, shuffle =True, drop_last =True,num_workers = 0):\n",
    "    \n",
    "    # Intialize the tokenizer\n",
    "    tokenizer = tiktoken.get_encoding(\"gpt2\")\n",
    "\n",
    "    # Create Dataset\n",
    "    dataset = GPTDataserV1(txt,tokenizer,max_length,stride)\n",
    "\n",
    "    # Create dataloader\n",
    "    dataloader = DataLoader(\n",
    "        dataset,\n",
    "        batch_size = batch_size,\n",
    "        shuffle= shuffle,\n",
    "        drop_last = drop_last,\n",
    "        num_workers = num_workers\n",
    "    )\n",
    "\n",
    "    return dataloader\n",
    "\n",
    "\n",
    "\n",
    "                         "
   ]
  }
 ],
 "metadata": {
  "kernelspec": {
   "display_name": "Python 3",
   "language": "python",
   "name": "python3"
  },
  "language_info": {
   "codemirror_mode": {
    "name": "ipython",
    "version": 3
   },
   "file_extension": ".py",
   "mimetype": "text/x-python",
   "name": "python",
   "nbconvert_exporter": "python",
   "pygments_lexer": "ipython3",
   "version": "3.11.3"
  }
 },
 "nbformat": 4,
 "nbformat_minor": 5
}
