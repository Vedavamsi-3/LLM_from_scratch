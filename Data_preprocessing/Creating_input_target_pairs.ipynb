{
 "cells": [
  {
   "cell_type": "markdown",
   "id": "4f395100",
   "metadata": {},
   "source": [
    "Creating input-target pairs.\n",
    "\n",
    "Sliding window approach is used here."
   ]
  },
  {
   "cell_type": "markdown",
   "id": "3cb0acfc",
   "metadata": {},
   "source": [
    "Libraries_used"
   ]
  },
  {
   "cell_type": "code",
   "execution_count": 2,
   "id": "55dabea4",
   "metadata": {},
   "outputs": [
    {
     "name": "stdout",
     "output_type": "stream",
     "text": [
      "tiktoken version: 0.9.0\n"
     ]
    }
   ],
   "source": [
    "import importlib\n",
    "import tiktoken\n",
    "\n",
    "print(\"tiktoken version:\", importlib.metadata.version(\"tiktoken\"))"
   ]
  },
  {
   "cell_type": "markdown",
   "id": "7a210012",
   "metadata": {},
   "source": [
    "Instantiate BPE tokenizer from tiktoken"
   ]
  },
  {
   "cell_type": "code",
   "execution_count": 3,
   "id": "81bac289",
   "metadata": {},
   "outputs": [],
   "source": [
    "tokenizer = tiktoken.get_encoding(\"gpt2\")"
   ]
  },
  {
   "cell_type": "code",
   "execution_count": 4,
   "id": "5f0eee2c",
   "metadata": {},
   "outputs": [
    {
     "name": "stdout",
     "output_type": "stream",
     "text": [
      "5145\n"
     ]
    }
   ],
   "source": [
    "with open(\"../Required_files/the-verdict.txt\",\"r\",encoding=\"utf-8\") as f:\n",
    "    raw_text = f.read()\n",
    "\n",
    "enc_text = tokenizer.encode(raw_text)\n",
    "print(len(enc_text))"
   ]
  },
  {
   "cell_type": "markdown",
   "id": "bcb55108",
   "metadata": {},
   "source": [
    "Removing first 50 Tokens"
   ]
  },
  {
   "cell_type": "code",
   "execution_count": 5,
   "id": "6c8f0128",
   "metadata": {},
   "outputs": [],
   "source": [
    "enc_sample = enc_text[50:]"
   ]
  }
 ],
 "metadata": {
  "kernelspec": {
   "display_name": "Python 3",
   "language": "python",
   "name": "python3"
  },
  "language_info": {
   "codemirror_mode": {
    "name": "ipython",
    "version": 3
   },
   "file_extension": ".py",
   "mimetype": "text/x-python",
   "name": "python",
   "nbconvert_exporter": "python",
   "pygments_lexer": "ipython3",
   "version": "3.11.3"
  }
 },
 "nbformat": 4,
 "nbformat_minor": 5
}
