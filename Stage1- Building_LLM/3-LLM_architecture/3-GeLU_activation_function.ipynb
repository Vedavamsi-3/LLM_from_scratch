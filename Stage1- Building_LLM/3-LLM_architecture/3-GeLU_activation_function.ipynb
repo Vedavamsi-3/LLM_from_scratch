{
 "cells": [
  {
   "cell_type": "markdown",
   "id": "f7843b74",
   "metadata": {},
   "source": [
    "Import Libraires"
   ]
  },
  {
   "cell_type": "code",
   "execution_count": 18,
   "id": "cd61759a",
   "metadata": {},
   "outputs": [],
   "source": [
    "import torch\n",
    "import torch.nn as nn\n",
    "import tiktoken"
   ]
  },
  {
   "cell_type": "markdown",
   "id": "f13e4993",
   "metadata": {},
   "source": [
    "Confriguration_used\n"
   ]
  },
  {
   "cell_type": "code",
   "execution_count": 19,
   "id": "fa9df600",
   "metadata": {},
   "outputs": [],
   "source": [
    "GPT_CONFIG_124M = {\n",
    "    \"vocab_size\": 50527,\n",
    "    \"context_length\": 1024,\n",
    "    \"emb_dim\": 768,\n",
    "    \"n_heads\": 12,\n",
    "    \"n_layers\" :12,\n",
    "    \"drop_rate\": 0.1,\n",
    "    \"qkv_bias\": False\n",
    "}"
   ]
  },
  {
   "cell_type": "markdown",
   "id": "8af602f1",
   "metadata": {},
   "source": [
    "Implentation of class for GeLU activation function"
   ]
  },
  {
   "cell_type": "code",
   "execution_count": 20,
   "id": "b83cd40e",
   "metadata": {},
   "outputs": [],
   "source": [
    "class GELU(nn.Module):\n",
    "    def __init__(self):\n",
    "        super().__init__()\n",
    "\n",
    "    def forward(self, x):\n",
    "        return 0.5*x*(1+torch.tanh(torch.sqrt(torch.tensor(2.0/torch.pi)) * \n",
    "        (x + 0.0044715*torch.pow(x,3))))"
   ]
  },
  {
   "cell_type": "markdown",
   "id": "1a87bae3",
   "metadata": {},
   "source": [
    "Implementation of class for feedforward neural network"
   ]
  },
  {
   "cell_type": "code",
   "execution_count": 21,
   "id": "0f9a81bf",
   "metadata": {},
   "outputs": [],
   "source": [
    "class FeedForward(nn.Module):\n",
    "    def __init__(self,cfg):\n",
    "        super().__init__()\n",
    "        self.layers = nn.Sequential(\n",
    "            nn.Linear(cfg[\"emb_dim\"], 4 * cfg[\"emb_dim\"]),\n",
    "            GELU(),\n",
    "            nn.Linear(4 * cfg[\"emb_dim\"], cfg[\"emb_dim\"])\n",
    "        )\n",
    "\n",
    "    def forward(self, x):\n",
    "        return self.layers(x)"
   ]
  },
  {
   "cell_type": "code",
   "execution_count": 22,
   "id": "efc3c9df",
   "metadata": {},
   "outputs": [
    {
     "name": "stdout",
     "output_type": "stream",
     "text": [
      "torch.Size([2, 3, 768])\n"
     ]
    }
   ],
   "source": [
    "ffn = FeedForward(GPT_CONFIG_124M)\n",
    "x =torch.randn(2,3,768)\n",
    "out = ffn(x)\n",
    "print(out.shape)  # Should print torch.Size([2, 3, 768])"
   ]
  }
 ],
 "metadata": {
  "kernelspec": {
   "display_name": "Python 3",
   "language": "python",
   "name": "python3"
  },
  "language_info": {
   "codemirror_mode": {
    "name": "ipython",
    "version": 3
   },
   "file_extension": ".py",
   "mimetype": "text/x-python",
   "name": "python",
   "nbconvert_exporter": "python",
   "pygments_lexer": "ipython3",
   "version": "3.11.3"
  }
 },
 "nbformat": 4,
 "nbformat_minor": 5
}
