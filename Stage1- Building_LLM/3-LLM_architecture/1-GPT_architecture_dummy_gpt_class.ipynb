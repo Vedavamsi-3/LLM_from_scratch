{
 "cells": [
  {
   "cell_type": "markdown",
   "id": "12cc4700",
   "metadata": {},
   "source": [
    "Import libraires"
   ]
  },
  {
   "cell_type": "code",
   "execution_count": 41,
   "id": "140d0857",
   "metadata": {},
   "outputs": [],
   "source": [
    "import torch\n",
    "import torch.nn as nn\n",
    "import tiktoken"
   ]
  },
  {
   "cell_type": "markdown",
   "id": "1cc067b8",
   "metadata": {},
   "source": [
    "Confriguration_used"
   ]
  },
  {
   "cell_type": "code",
   "execution_count": 42,
   "id": "bf80030e",
   "metadata": {},
   "outputs": [],
   "source": [
    "GPT_CONFIG_124M = {\n",
    "    \"vocab_size\": 50527,\n",
    "    \"context_length\": 1024,\n",
    "    \"emb_dim\": 768,\n",
    "    \"n_heads\": 12,\n",
    "    \"n_layers\" :12,\n",
    "    \"drop_rate\": 0.1,\n",
    "    \"qkv_bias\": False\n",
    "}"
   ]
  },
  {
   "cell_type": "markdown",
   "id": "b5d2f842",
   "metadata": {},
   "source": [
    "Part1: Dummy GPT class "
   ]
  },
  {
   "cell_type": "code",
   "execution_count": 43,
   "id": "336323ad",
   "metadata": {},
   "outputs": [],
   "source": [
    "class DummyGPTModel(nn.Module):\n",
    "    def __init__(self,cfg):\n",
    "        super().__init__()\n",
    "        self.tok_emb = nn.Embedding(cfg[\"vocab_size\"], cfg[\"emb_dim\"])\n",
    "        self.pos_emb = nn.Embedding(cfg[\"context_length\"],cfg[\"emb_dim\"])\n",
    "        self.drop_emb = nn.Dropout(cfg[\"drop_rate\"])\n",
    "\n",
    "        self.trf_blocks = nn.Sequential(\n",
    "            *[DummyTransformerBlock(cfg) for _ in range(cfg[\"n_layers\"])]\n",
    "        )\n",
    "\n",
    "        self.final_norm = DummyLayerNorm(cfg[\"emb_dim\"])\n",
    "        self.out_head = nn.Linear(\n",
    "            cfg[\"emb_dim\"], cfg[\"vocab_size\"], bias=False\n",
    "        )\n",
    "\n",
    "    def forward(self,in_idx):\n",
    "            batch_size,seq_len = in_idx.shape\n",
    "            tok_embeds = self.tok_emb(in_idx)\n",
    "            pos_embeds = self.pos_emb(torch.arange(seq_len,device=in_idx.device))\n",
    "            x = tok_embeds + pos_embeds\n",
    "            x= self.drop_emb(x)\n",
    "            x = self.trf_blocks(x)\n",
    "            x = self.final_norm(x)\n",
    "            logits = self.out_head(x)\n",
    "            return logits\n",
    "        \n",
    "class DummyTransformerBlock(nn.Module):\n",
    "    def __init__(self, cfg):\n",
    "        super().__init__()\n",
    "        # A simple placeholder\n",
    "\n",
    "    def forward(self, x):\n",
    "        # This block does nothing and just returns its input.\n",
    "        return x\n",
    "    \n",
    "class DummyLayerNorm(nn.Module):\n",
    "    def __init__(slef,normalized_shape,eps=1e-5):\n",
    "        super().__init__()\n",
    "\n",
    "    def forward(slef,x):\n",
    "        return x"
   ]
  },
  {
   "cell_type": "markdown",
   "id": "cf8fc608",
   "metadata": {},
   "source": [
    "Step1: Tokenization"
   ]
  },
  {
   "cell_type": "code",
   "execution_count": 44,
   "id": "e993d6ee",
   "metadata": {},
   "outputs": [
    {
     "name": "stdout",
     "output_type": "stream",
     "text": [
      "tensor([[6109, 3626, 6100,  345],\n",
      "        [6109, 1110, 6622,  257]])\n"
     ]
    }
   ],
   "source": [
    "tokenizer = tiktoken.get_encoding(\"gpt2\")\n",
    "batch = []\n",
    "txt1 = \"Every effort moves you\"\n",
    "txt2= \"Every day holds a\"\n",
    "batch.append(torch.tensor(tokenizer.encode(txt1)))\n",
    "batch.append(torch.tensor(tokenizer.encode(txt2)))\n",
    "batch = torch.stack(batch, dim=0)\n",
    "print(batch)"
   ]
  },
  {
   "cell_type": "markdown",
   "id": "cea8d8f0",
   "metadata": {},
   "source": [
    "Step2: Create an instance of dummy gpt model"
   ]
  },
  {
   "cell_type": "code",
   "execution_count": 45,
   "id": "df977b5b",
   "metadata": {},
   "outputs": [
    {
     "name": "stdout",
     "output_type": "stream",
     "text": [
      "Output shape: torch.Size([2, 4, 50527])\n",
      "tensor([[[-0.4811,  0.4325, -0.6385,  ..., -0.9398, -0.1178,  0.1945],\n",
      "         [-0.0843,  0.4519,  0.2060,  ..., -0.5766, -0.5318, -1.4576],\n",
      "         [ 0.7199,  0.0575,  0.2597,  ..., -1.0028, -1.9158, -0.5157],\n",
      "         [ 1.8422,  0.0252,  0.9573,  ..., -0.0315, -0.2424, -0.2487]],\n",
      "\n",
      "        [[-0.9559,  1.3580, -0.4468,  ..., -0.5588,  0.4615, -0.3940],\n",
      "         [-0.5088,  0.2881,  0.5815,  ..., -0.0353,  0.1133, -0.5654],\n",
      "         [ 0.0683, -1.4644,  1.1000,  ..., -1.2006, -0.6936, -0.2516],\n",
      "         [ 0.6819, -0.8203,  1.2607,  ...,  1.1441, -0.7271, -2.8555]]],\n",
      "       grad_fn=<UnsafeViewBackward0>)\n"
     ]
    }
   ],
   "source": [
    "torch.manual_seed(123)\n",
    "model = DummyGPTModel(GPT_CONFIG_124M)\n",
    "logits = model(batch)\n",
    "print(\"Output shape:\", logits.shape)\n",
    "print(logits)"
   ]
  }
 ],
 "metadata": {
  "kernelspec": {
   "display_name": "Python 3",
   "language": "python",
   "name": "python3"
  },
  "language_info": {
   "codemirror_mode": {
    "name": "ipython",
    "version": 3
   },
   "file_extension": ".py",
   "mimetype": "text/x-python",
   "name": "python",
   "nbconvert_exporter": "python",
   "pygments_lexer": "ipython3",
   "version": "3.11.3"
  }
 },
 "nbformat": 4,
 "nbformat_minor": 5
}
