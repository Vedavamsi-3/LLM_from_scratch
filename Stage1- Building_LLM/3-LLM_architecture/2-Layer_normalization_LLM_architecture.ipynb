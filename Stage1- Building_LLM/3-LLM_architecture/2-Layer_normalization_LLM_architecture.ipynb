{
 "cells": [
  {
   "cell_type": "markdown",
   "id": "bb71de32",
   "metadata": {},
   "source": [
    "Import Libraries"
   ]
  },
  {
   "cell_type": "code",
   "execution_count": 1,
   "id": "4be73378",
   "metadata": {},
   "outputs": [],
   "source": [
    "import torch\n",
    "import torch.nn as nn\n",
    "import tiktoken"
   ]
  },
  {
   "cell_type": "markdown",
   "id": "492a3b87",
   "metadata": {},
   "source": [
    "Example of layer normalization"
   ]
  },
  {
   "cell_type": "code",
   "execution_count": 2,
   "id": "e36cbf46",
   "metadata": {},
   "outputs": [
    {
     "name": "stdout",
     "output_type": "stream",
     "text": [
      "tensor([[0.2260, 0.3470, 0.0000, 0.2216, 0.0000, 0.0000],\n",
      "        [0.2133, 0.2394, 0.0000, 0.5198, 0.3297, 0.0000]],\n",
      "       grad_fn=<ReluBackward0>)\n"
     ]
    }
   ],
   "source": [
    "torch.manual_seed(123)\n",
    "batch_example = torch.randn(2,5)\n",
    "layer = nn.Sequential(nn.Linear(5,6),nn.ReLU())\n",
    "out = layer(batch_example)\n",
    "print(out)"
   ]
  },
  {
   "cell_type": "code",
   "execution_count": 3,
   "id": "701d35c7",
   "metadata": {},
   "outputs": [
    {
     "name": "stdout",
     "output_type": "stream",
     "text": [
      "Mean tensor([[0.1324],\n",
      "        [0.2170]], grad_fn=<MeanBackward1>)\n",
      "variance tensor([[0.0231],\n",
      "        [0.0398]], grad_fn=<VarBackward0>)\n"
     ]
    }
   ],
   "source": [
    "mean = out.mean(dim=-1, keepdim = True)\n",
    "variance = out.var(dim = -1, keepdim =True)\n",
    "print(\"Mean\",mean)\n",
    "print(\"variance\",variance)"
   ]
  },
  {
   "cell_type": "code",
   "execution_count": 4,
   "id": "b4b88d8e",
   "metadata": {},
   "outputs": [
    {
     "name": "stdout",
     "output_type": "stream",
     "text": [
      "Mean after normalization tensor([[0.],\n",
      "        [0.]], grad_fn=<MeanBackward1>)\n",
      "variance after normalization tensor([[0.9996],\n",
      "        [0.9997]], grad_fn=<VarBackward0>)\n"
     ]
    }
   ],
   "source": [
    "out_norm = (out -mean) / torch.sqrt(variance + 1e-5)\n",
    "mean = out_norm.mean(dim=-1, keepdim = True)\n",
    "variance = out_norm.var(dim = -1, keepdim =True)\n",
    "print(\"Mean after normalization\",mean)\n",
    "print(\"variance after normalization\",variance)"
   ]
  },
  {
   "cell_type": "markdown",
   "id": "eaa4b396",
   "metadata": {},
   "source": [
    "Implementation of Layer normalization class"
   ]
  },
  {
   "cell_type": "code",
   "execution_count": 5,
   "id": "3a77683b",
   "metadata": {},
   "outputs": [],
   "source": [
    "class LayerNorm(nn.Module):\n",
    "    def __init__(self,emb_dim):\n",
    "        super().__init__()\n",
    "        self.eps = 1e-5\n",
    "        self.scale = nn.Parameter(torch.ones(emb_dim))\n",
    "        self.shift = nn.Parameter(torch.zeros(emb_dim))\n",
    "\n",
    "    def forward(self, x):\n",
    "        mean = x.mean(dim=-1, keepdim = True)\n",
    "        variance = x.var(dim = -1, keepdim =True)\n",
    "        norm_x = (x-mean) / torch.sqrt(variance + self.eps)\n",
    "        return self.scale * norm_x + self.shift\n",
    "    \n"
   ]
  },
  {
   "cell_type": "code",
   "execution_count": 6,
   "id": "bbae9ffb",
   "metadata": {},
   "outputs": [
    {
     "name": "stdout",
     "output_type": "stream",
     "text": [
      "Mean after layer normalization tensor([[-1.4901e-08],\n",
      "        [ 2.3842e-08]], grad_fn=<MeanBackward1>)\n",
      "Variance after layer normalization tensor([[0.8000],\n",
      "        [0.8000]], grad_fn=<VarBackward0>)\n"
     ]
    }
   ],
   "source": [
    "ln = LayerNorm(emb_dim = 5)\n",
    "out_ln = ln(batch_example)\n",
    "mean_ln = out_ln.mean(dim = -1, keepdim = True)\n",
    "variance_ln = out_ln.var(dim = -1, keepdim = True, unbiased = False)\n",
    "print(\"Mean after layer normalization\", mean_ln)\n",
    "print(\"Variance after layer normalization\", variance_ln)\n",
    "\n"
   ]
  }
 ],
 "metadata": {
  "kernelspec": {
   "display_name": "Python 3",
   "language": "python",
   "name": "python3"
  },
  "language_info": {
   "codemirror_mode": {
    "name": "ipython",
    "version": 3
   },
   "file_extension": ".py",
   "mimetype": "text/x-python",
   "name": "python",
   "nbconvert_exporter": "python",
   "pygments_lexer": "ipython3",
   "version": "3.11.3"
  }
 },
 "nbformat": 4,
 "nbformat_minor": 5
}
