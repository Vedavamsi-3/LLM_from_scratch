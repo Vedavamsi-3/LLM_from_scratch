{
 "cells": [
  {
   "cell_type": "markdown",
   "id": "898c5ac5",
   "metadata": {},
   "source": [
    "Import libraries"
   ]
  },
  {
   "cell_type": "code",
   "execution_count": 1,
   "id": "52b7eb32",
   "metadata": {},
   "outputs": [],
   "source": [
    "import torch\n",
    "import torch.nn as nn\n",
    "import tiktoken"
   ]
  },
  {
   "cell_type": "markdown",
   "id": "ac21551d",
   "metadata": {},
   "source": [
    "GeLU Activation function"
   ]
  },
  {
   "cell_type": "code",
   "execution_count": 2,
   "id": "7a64cb78",
   "metadata": {},
   "outputs": [],
   "source": [
    "class GELU(nn.Module):\n",
    "    def __init__(self):\n",
    "        super().__init__()\n",
    "\n",
    "    def forward(self, x):\n",
    "        return 0.5*x*(1+torch.tanh(torch.sqrt(torch.tensor(2.0/torch.pi)) * \n",
    "        (x + 0.0044715*torch.pow(x,3))))"
   ]
  },
  {
   "cell_type": "markdown",
   "id": "71a58a49",
   "metadata": {},
   "source": [
    "Example to understand shortcut connections"
   ]
  },
  {
   "cell_type": "code",
   "execution_count": 9,
   "id": "36f02d48",
   "metadata": {},
   "outputs": [],
   "source": [
    "class ExampleDeepNeuralNetwork(nn.Module):\n",
    "    def __init__(self, layer_sizes, use_shortcut):\n",
    "        super().__init__()\n",
    "        self.use_shortcut = use_shortcut\n",
    "        self.layers = nn.ModuleList([\n",
    "            nn.Sequential(nn.Linear(layer_sizes[0], layer_sizes[1]), GELU()),\n",
    "            nn.Sequential(nn.Linear(layer_sizes[1], layer_sizes[2]), GELU()),\n",
    "            nn.Sequential(nn.Linear(layer_sizes[2], layer_sizes[3]), GELU()),\n",
    "            nn.Sequential(nn.Linear(layer_sizes[3], layer_sizes[4]), GELU()),\n",
    "            nn.Sequential(nn.Linear(layer_sizes[4], layer_sizes[5]), GELU()),]\n",
    "        )\n",
    "\n",
    "    def forward(self,x):\n",
    "        for layer in self.layers:\n",
    "\n",
    "            layer_output = layer(x)\n",
    "\n",
    "            if self.use_shortcut and x.shape == layer_output.shape:\n",
    "                x = x + layer_output\n",
    "            else:\n",
    "                x = layer_output\n",
    "        return x\n",
    "\n"
   ]
  },
  {
   "cell_type": "code",
   "execution_count": 10,
   "id": "bcbb2390",
   "metadata": {},
   "outputs": [],
   "source": [
    "layer_sizes = [3,3,3,3,3,1]\n",
    "sample_input = torch.tensor([[1., 0., -1.]])\n",
    "torch.manual_seed(123) \n",
    "model_without_shortcut = ExampleDeepNeuralNetwork(\n",
    "layer_sizes, use_shortcut=False\n",
    ")"
   ]
  },
  {
   "cell_type": "code",
   "execution_count": 11,
   "id": "285db9a1",
   "metadata": {},
   "outputs": [],
   "source": [
    "def print_gradient(model,x):\n",
    "\n",
    "    output = model(x)\n",
    "    target = torch.tensor([[0.]])\n",
    "\n",
    "    loss = nn.MSELoss()\n",
    "    loss = loss(output, target)\n",
    "\n",
    "\n",
    "    loss.backward()\n",
    "\n",
    "    for name,param in model.named_parameters():\n",
    "        if 'weight' in name:\n",
    "            print(f\"{name} has gradient mean of {param.grad.abs().mean().item()} \")"
   ]
  },
  {
   "cell_type": "code",
   "execution_count": 12,
   "id": "685390cb",
   "metadata": {},
   "outputs": [
    {
     "name": "stdout",
     "output_type": "stream",
     "text": [
      "layers.0.0.weight has gradient mean of 0.00020146823953837156 \n",
      "layers.1.0.weight has gradient mean of 0.00011980159615632147 \n",
      "layers.2.0.weight has gradient mean of 0.0007132355822250247 \n",
      "layers.3.0.weight has gradient mean of 0.0013999989023432136 \n",
      "layers.4.0.weight has gradient mean of 0.005051811225712299 \n"
     ]
    }
   ],
   "source": [
    "print_gradient(model_without_shortcut, sample_input)"
   ]
  },
  {
   "cell_type": "code",
   "execution_count": 15,
   "id": "998ef3ef",
   "metadata": {},
   "outputs": [
    {
     "name": "stdout",
     "output_type": "stream",
     "text": [
      "layers.0.0.weight has gradient mean of 0.20885638892650604 \n",
      "layers.1.0.weight has gradient mean of 0.1954943686723709 \n",
      "layers.2.0.weight has gradient mean of 0.30882930755615234 \n",
      "layers.3.0.weight has gradient mean of 0.25369951128959656 \n",
      "layers.4.0.weight has gradient mean of 1.2657285928726196 \n"
     ]
    }
   ],
   "source": [
    "torch.manual_seed(123)\n",
    "model_with_shortcut = ExampleDeepNeuralNetwork(\n",
    "layer_sizes, use_shortcut=True)\n",
    "print_gradient(model_with_shortcut, sample_input)"
   ]
  }
 ],
 "metadata": {
  "kernelspec": {
   "display_name": "Python 3",
   "language": "python",
   "name": "python3"
  },
  "language_info": {
   "codemirror_mode": {
    "name": "ipython",
    "version": 3
   },
   "file_extension": ".py",
   "mimetype": "text/x-python",
   "name": "python",
   "nbconvert_exporter": "python",
   "pygments_lexer": "ipython3",
   "version": "3.11.3"
  }
 },
 "nbformat": 4,
 "nbformat_minor": 5
}
