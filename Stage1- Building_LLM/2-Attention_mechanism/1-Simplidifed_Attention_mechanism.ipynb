{
 "cells": [
  {
   "cell_type": "markdown",
   "id": "ab5ca71f",
   "metadata": {},
   "source": [
    "Import essential libraries"
   ]
  },
  {
   "cell_type": "code",
   "execution_count": 3,
   "id": "54679830",
   "metadata": {},
   "outputs": [],
   "source": [
    "import torch\n",
    "import matplotlib.pyplot as plt\n",
    "from mpl_toolkits.mplot3d import Axes3D"
   ]
  },
  {
   "cell_type": "markdown",
   "id": "53fc07f7",
   "metadata": {},
   "source": [
    "Assume vector embeddings if length \"3\" for words in sentence \"Your journey starts with one step\" for simplicity"
   ]
  },
  {
   "cell_type": "code",
   "execution_count": 4,
   "id": "cb7646cf",
   "metadata": {},
   "outputs": [],
   "source": [
    "inputs = torch.tensor([\n",
    " [0.43, 0.15, 0.89],\n",
    " [0.55, 0.87, 0.66],\n",
    " [0.57, 0.85, 0.64],\n",
    " [0.22, 0.58, 0.33],\n",
    " [0.77, 0.25, 0.10],\n",
    " [0.05, 0.80, 0.55]\n",
    "]\n",
    ")"
   ]
  },
  {
   "cell_type": "markdown",
   "id": "821dc2e8",
   "metadata": {},
   "source": [
    "Calculate attention weights for each query"
   ]
  },
  {
   "cell_type": "code",
   "execution_count": 10,
   "id": "c9dac66d",
   "metadata": {},
   "outputs": [
    {
     "name": "stdout",
     "output_type": "stream",
     "text": [
      "tensor([[0.9995, 0.9544, 0.9422, 0.4753, 0.4576, 0.6310],\n",
      "        [0.9544, 1.4950, 1.4754, 0.8434, 0.7070, 1.0865],\n",
      "        [0.9422, 1.4754, 1.4570, 0.8296, 0.7154, 1.0605],\n",
      "        [0.4753, 0.8434, 0.8296, 0.4937, 0.3474, 0.6565],\n",
      "        [0.4576, 0.7070, 0.7154, 0.3474, 0.6654, 0.2935],\n",
      "        [0.6310, 1.0865, 1.0605, 0.6565, 0.2935, 0.9450]])\n"
     ]
    }
   ],
   "source": [
    "query = inputs[1]\n",
    "\n",
    "atten_scores = inputs @ inputs.T\n",
    "print(atten_scores)"
   ]
  },
  {
   "cell_type": "markdown",
   "id": "5b1f3f77",
   "metadata": {},
   "source": [
    "Apply normalization using softmax"
   ]
  },
  {
   "cell_type": "code",
   "execution_count": 13,
   "id": "75007ec8",
   "metadata": {},
   "outputs": [
    {
     "name": "stdout",
     "output_type": "stream",
     "text": [
      "tensor([[0.2098, 0.2006, 0.1981, 0.1242, 0.1220, 0.1452],\n",
      "        [0.1385, 0.2379, 0.2333, 0.1240, 0.1082, 0.1581],\n",
      "        [0.1390, 0.2369, 0.2326, 0.1242, 0.1108, 0.1565],\n",
      "        [0.1435, 0.2074, 0.2046, 0.1462, 0.1263, 0.1720],\n",
      "        [0.1526, 0.1958, 0.1975, 0.1367, 0.1879, 0.1295],\n",
      "        [0.1385, 0.2184, 0.2128, 0.1420, 0.0988, 0.1896]])\n"
     ]
    }
   ],
   "source": [
    "atten_weights = torch.softmax(atten_scores, dim = -1)\n",
    "print(atten_weights)"
   ]
  },
  {
   "cell_type": "markdown",
   "id": "acaac900",
   "metadata": {},
   "source": [
    "Calculate context vector"
   ]
  },
  {
   "cell_type": "code",
   "execution_count": 14,
   "id": "10701f3f",
   "metadata": {},
   "outputs": [
    {
     "name": "stdout",
     "output_type": "stream",
     "text": [
      "tensor([[0.4421, 0.5931, 0.5790],\n",
      "        [0.4419, 0.6515, 0.5683],\n",
      "        [0.4431, 0.6496, 0.5671],\n",
      "        [0.4304, 0.6298, 0.5510],\n",
      "        [0.4671, 0.5910, 0.5266],\n",
      "        [0.4177, 0.6503, 0.5645]])\n"
     ]
    }
   ],
   "source": [
    "all_context_vect = atten_weights @ inputs\n",
    "print(all_context_vect)"
   ]
  }
 ],
 "metadata": {
  "kernelspec": {
   "display_name": "Python 3",
   "language": "python",
   "name": "python3"
  },
  "language_info": {
   "codemirror_mode": {
    "name": "ipython",
    "version": 3
   },
   "file_extension": ".py",
   "mimetype": "text/x-python",
   "name": "python",
   "nbconvert_exporter": "python",
   "pygments_lexer": "ipython3",
   "version": "3.11.3"
  }
 },
 "nbformat": 4,
 "nbformat_minor": 5
}
