{
 "cells": [
  {
   "cell_type": "markdown",
   "id": "7499fbff",
   "metadata": {},
   "source": [
    "Import required libraires"
   ]
  },
  {
   "cell_type": "code",
   "execution_count": 1,
   "id": "ce70b8f3",
   "metadata": {},
   "outputs": [],
   "source": [
    "import torch\n",
    "import torch.nn as nn"
   ]
  },
  {
   "cell_type": "markdown",
   "id": "39255ea0",
   "metadata": {},
   "source": [
    "Multi-head attention class"
   ]
  },
  {
   "cell_type": "code",
   "execution_count": 2,
   "id": "d369e1a3",
   "metadata": {},
   "outputs": [],
   "source": [
    "class MultiHeadAttention(nn.Module):\n",
    "\n",
    "    def __init__(self,d_in,d_out,context_length,dropout=0.5,num_heads=2 ,qkvbias = False):\n",
    "\n",
    "        super().__init__()\n",
    "        assert (d_out % num_heads == 0), \\\n",
    "            \"d_out must be divisible by num_heads\"\n",
    "        \n",
    "        self.d_out = d_out\n",
    "        self.num_heads = num_heads\n",
    "        self.head_dim = d_out // num_heads\n",
    "\n",
    "        self.W_query = nn.Linear(d_in,d_out,qkvbias)\n",
    "        self.W_key = nn.Linear(d_in,d_out,qkvbias)\n",
    "        self.W_value = nn.Linear(d_in,d_out,qkvbias)\n",
    "        self.out_proj = nn.Linear(d_out,d_out)\n",
    "        self.dropout = nn.Dropout(dropout)\n",
    "        self.register_buffer(\"mask\", torch.tril(torch.ones(context_length, context_length),diagonal=1))\n",
    "\n",
    "    def forward(self, x):\n",
    "\n",
    "        b, num_tokens , d_in = x.shape\n",
    "        keys = self.W_key(x)\n",
    "        queries = self.W_query(x)\n",
    "        values = self.W_value(x)\n",
    "\n",
    "        keys = keys.view(b,num_tokens,self.num_heads,self.head_dim)\n",
    "        queries = queries.view(b,num_tokens,self.num_heads,self.head_dim)\n",
    "        values = values.view(b,num_tokens,self.num_heads,self.head_dim)\n",
    "\n",
    "        keys = keys.transpose(1,2)  # (b, num_heads, num_tokens, head_dim)\n",
    "        queries = queries.transpose(1,2)  # (b, num_heads, num_tokens, head_dim)\n",
    "        values = values.transpose(1,2)  # (b, num_heads, num_tokens, head_dim)\n",
    "\n",
    "        attn_scores = queries @ keys.transpose(2,3)\n",
    "\n",
    "        mask_bool = self.mask.bool()[:num_tokens, :num_tokens]\n",
    "\n",
    "        attn_scores = attn_scores.masked_fill_(mask_bool,-torch.inf)\n",
    "\n",
    "        attn_weights = torch.softmax(attn_scores/keys.shape[-1]**0.5,dim =-1)\n",
    "        attn_weights = self.dropout(attn_weights)\n",
    "\n",
    "        context_vector = (attn_weights @ values ).transpose(1,2) #Shape: (b, num_tokens, num_heads, head_dim)\n",
    "\n",
    "        context_vector = context_vector.contiguous().view(b,num_tokens,self.d_out)\n",
    "        context_vector = self.out_proj(context_vector)\n",
    "\n",
    "        return context_vector\n",
    "\n"
   ]
  },
  {
   "cell_type": "code",
   "execution_count": 3,
   "id": "90f0a406",
   "metadata": {},
   "outputs": [],
   "source": [
    "inputs = torch.tensor([\n",
    " [0.43, 0.15, 0.89],\n",
    " [0.55, 0.87, 0.66],\n",
    " [0.57, 0.85, 0.64],\n",
    " [0.22, 0.58, 0.33],\n",
    " [0.77, 0.25, 0.10],\n",
    " [0.05, 0.80, 0.55]\n",
    "]\n",
    ")"
   ]
  },
  {
   "cell_type": "code",
   "execution_count": 4,
   "id": "bdefaf78",
   "metadata": {},
   "outputs": [],
   "source": [
    "x_2 = inputs[1]\n",
    "d_in = inputs.shape[1]\n",
    "d_out = 4\n",
    "dropout = 0.5"
   ]
  },
  {
   "cell_type": "code",
   "execution_count": 5,
   "id": "66e07289",
   "metadata": {},
   "outputs": [
    {
     "name": "stdout",
     "output_type": "stream",
     "text": [
      "torch.Size([2, 6, 3])\n"
     ]
    }
   ],
   "source": [
    "batch = torch.stack((inputs, inputs), dim=0)\n",
    "print(batch.shape)"
   ]
  },
  {
   "cell_type": "code",
   "execution_count": 6,
   "id": "84677d99",
   "metadata": {},
   "outputs": [
    {
     "name": "stdout",
     "output_type": "stream",
     "text": [
      "torch.Size([2, 6, 4])\n"
     ]
    }
   ],
   "source": [
    "torch.manual_seed(123)\n",
    "context_length = batch.shape[1]\n",
    "mha = MultiHeadAttention(d_in, d_out, context_length, dropout = 0.5, num_heads=2, qkvbias=False)\n",
    "context_vecs = mha(batch)\n",
    "print(context_vecs.shape)  # Should be (batch_size, num_tokens, d_out"
   ]
  }
 ],
 "metadata": {
  "kernelspec": {
   "display_name": "Python 3",
   "language": "python",
   "name": "python3"
  },
  "language_info": {
   "codemirror_mode": {
    "name": "ipython",
    "version": 3
   },
   "file_extension": ".py",
   "mimetype": "text/x-python",
   "name": "python",
   "nbconvert_exporter": "python",
   "pygments_lexer": "ipython3",
   "version": "3.11.3"
  }
 },
 "nbformat": 4,
 "nbformat_minor": 5
}
