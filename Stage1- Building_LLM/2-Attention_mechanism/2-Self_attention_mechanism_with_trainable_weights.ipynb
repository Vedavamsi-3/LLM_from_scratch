{
 "cells": [
  {
   "cell_type": "markdown",
   "id": "06666211",
   "metadata": {},
   "source": [
    "Import essential libraries"
   ]
  },
  {
   "cell_type": "code",
   "execution_count": 83,
   "id": "f0f7e125",
   "metadata": {},
   "outputs": [],
   "source": [
    "import torch\n",
    "import matplotlib.pyplot as plt\n",
    "from mpl_toolkits.mplot3d import Axes3D\n",
    "import torch.nn as nn"
   ]
  },
  {
   "cell_type": "markdown",
   "id": "ebff9bef",
   "metadata": {},
   "source": [
    "Assume vector embeddings if length \"3\" for words in sentence \"Your journey starts with one step\" for simplicity"
   ]
  },
  {
   "cell_type": "code",
   "execution_count": 84,
   "id": "ee5aa3e5",
   "metadata": {},
   "outputs": [],
   "source": [
    "inputs = torch.tensor([\n",
    " [0.43, 0.15, 0.89],\n",
    " [0.55, 0.87, 0.66],\n",
    " [0.57, 0.85, 0.64],\n",
    " [0.22, 0.58, 0.33],\n",
    " [0.77, 0.25, 0.10],\n",
    " [0.05, 0.80, 0.55]\n",
    "]\n",
    ")"
   ]
  },
  {
   "cell_type": "markdown",
   "id": "93d47648",
   "metadata": {},
   "source": [
    "Considering only second token for calculation of attention weights\n",
    "\n",
    "x_2 is the second element\n",
    "\n",
    "d_in is input embedding size\n",
    "\n",
    "d_out is output embedding size"
   ]
  },
  {
   "cell_type": "code",
   "execution_count": 85,
   "id": "efa15cae",
   "metadata": {},
   "outputs": [],
   "source": [
    "x_2 = inputs[1]\n",
    "d_in = inputs.shape[1]\n",
    "d_out = 2"
   ]
  },
  {
   "cell_type": "markdown",
   "id": "ceeec385",
   "metadata": {},
   "source": [
    "Initialize the weight matrices"
   ]
  },
  {
   "cell_type": "code",
   "execution_count": 86,
   "id": "ee65e077",
   "metadata": {},
   "outputs": [],
   "source": [
    "torch.manual_seed(0)\n",
    "W_query = torch.nn.Parameter(torch.randn(d_in, d_out),requires_grad=False)\n",
    "W_key = torch.nn.Parameter(torch.randn(d_in, d_out), requires_grad=False)\n",
    "W_value = torch.nn.Parameter(torch.randn(d_in, d_out), requires_grad=False)"
   ]
  },
  {
   "cell_type": "markdown",
   "id": "8e2fc1ff",
   "metadata": {},
   "source": [
    "Compute key,query and value"
   ]
  },
  {
   "cell_type": "markdown",
   "id": "a61ab722",
   "metadata": {},
   "source": [
    "Obtain all keys and values with Matrix Multiplication"
   ]
  },
  {
   "cell_type": "code",
   "execution_count": 87,
   "id": "113210ae",
   "metadata": {},
   "outputs": [
    {
     "name": "stdout",
     "output_type": "stream",
     "text": [
      "Query: torch.Size([6, 2])\n"
     ]
    }
   ],
   "source": [
    "queries = inputs @ W_query\n",
    "keys = inputs @ W_key\n",
    "values = inputs @ W_value\n",
    "print(\"Query:\", queries.shape)"
   ]
  },
  {
   "cell_type": "markdown",
   "id": "5d9c7f36",
   "metadata": {},
   "source": [
    "Compute attention scores"
   ]
  },
  {
   "cell_type": "code",
   "execution_count": 88,
   "id": "cc8cb75b",
   "metadata": {},
   "outputs": [
    {
     "name": "stdout",
     "output_type": "stream",
     "text": [
      "Attention Scores: torch.Size([6, 6])\n"
     ]
    }
   ],
   "source": [
    "atten_scores = queries @ keys.T\n",
    "print(\"Attention Scores:\", atten_scores.shape)"
   ]
  },
  {
   "cell_type": "markdown",
   "id": "53df3a39",
   "metadata": {},
   "source": [
    "Scale attention wieghts and apply softmax"
   ]
  },
  {
   "cell_type": "code",
   "execution_count": 89,
   "id": "0289ae54",
   "metadata": {},
   "outputs": [],
   "source": [
    "d_k = keys.shape[-1]\n",
    "attn_weigths = torch.softmax(atten_scores / d_k**0.5, dim=-1)"
   ]
  },
  {
   "cell_type": "markdown",
   "id": "6587d6e8",
   "metadata": {},
   "source": [
    "Compute_context_vector"
   ]
  },
  {
   "cell_type": "code",
   "execution_count": 90,
   "id": "22b08558",
   "metadata": {},
   "outputs": [
    {
     "name": "stdout",
     "output_type": "stream",
     "text": [
      "Context Vector: torch.Size([6, 2])\n"
     ]
    }
   ],
   "source": [
    "context_vector = attn_weigths @ values\n",
    "print(\"Context Vector:\", context_vector.shape)"
   ]
  },
  {
   "cell_type": "markdown",
   "id": "75971127",
   "metadata": {},
   "source": [
    "Implementation through object oriented programming"
   ]
  },
  {
   "cell_type": "code",
   "execution_count": 91,
   "id": "80c5dde0",
   "metadata": {},
   "outputs": [],
   "source": [
    "class SelfAttention_v1(nn.Module):\n",
    "    def __init__(self,d_in,d_out):\n",
    "        super().__init__()\n",
    "        self.W_query = nn.Parameter(torch.randn(d_in,d_out))\n",
    "        self.W_key = nn.Parameter(torch.randn(d_in,d_out))\n",
    "        self.W_value = nn.Parameter(torch.randn(d_in,d_out))\n",
    "\n",
    "    def forward(self,x):\n",
    "        keys = x @ self.W_key\n",
    "        queries = x @ self.W_query\n",
    "        values = x @ self.W_value\n",
    "\n",
    "        atten_scores = queries @ keys.T\n",
    "        atten_weigths = torch.softmax(atten_scores / keys.shape[-1]**0.5, dim=-1)\n",
    "        context_vector = atten_weigths @ values\n",
    "        return context_vector"
   ]
  },
  {
   "cell_type": "code",
   "execution_count": 92,
   "id": "9392d4d2",
   "metadata": {},
   "outputs": [
    {
     "name": "stdout",
     "output_type": "stream",
     "text": [
      "tensor([[0.2845, 0.4071],\n",
      "        [0.2854, 0.4081],\n",
      "        [0.2854, 0.4075],\n",
      "        [0.2864, 0.3974],\n",
      "        [0.2863, 0.3910],\n",
      "        [0.2860, 0.4039]], grad_fn=<MmBackward0>)\n"
     ]
    }
   ],
   "source": [
    "torch.manual_seed(123)\n",
    "sa_v1 = SelfAttention_v1(d_in, d_out)\n",
    "print(sa_v1(inputs))"
   ]
  },
  {
   "cell_type": "markdown",
   "id": "f3fc6131",
   "metadata": {},
   "source": [
    "Self_attention class implementation through torch.linear layer\n",
    "\n",
    "For better weight initalization scheme"
   ]
  },
  {
   "cell_type": "code",
   "execution_count": 93,
   "id": "7988aca8",
   "metadata": {},
   "outputs": [],
   "source": [
    "class SelfAttention_v2(nn.Module):\n",
    "    def __init__(self,d_in,d_out,qkv_bias=False):   \n",
    "        super().__init__()\n",
    "        self.W_query = nn.Linear(d_in , d_out , bias = qkv_bias)\n",
    "        self.W_key = nn.Linear(d_in , d_out , bias = qkv_bias)\n",
    "        self.W_value = nn.Linear(d_in , d_out , bias = qkv_bias)\n",
    "        \n",
    "\n",
    "    def forward(self,x):\n",
    "        keys = self.W_key(x)\n",
    "        queries = self.W_query(x)\n",
    "        values = self.W_value(x)\n",
    "        print(\"dim is :\" , self.W_query(x).shape)\n",
    "\n",
    "        atten_scores = queries @ keys.T\n",
    "        atten_weigths = torch.softmax(atten_scores / keys.shape[-1]**0.5, dim=-1)\n",
    "        context_vector = atten_weigths @ values\n",
    "        return context_vector\n",
    "    \n",
    "    "
   ]
  },
  {
   "cell_type": "code",
   "execution_count": 94,
   "id": "6010dff4",
   "metadata": {},
   "outputs": [
    {
     "name": "stdout",
     "output_type": "stream",
     "text": [
      "dim is : torch.Size([6, 2])\n",
      "tensor([[-0.0739,  0.0713],\n",
      "        [-0.0748,  0.0703],\n",
      "        [-0.0749,  0.0702],\n",
      "        [-0.0760,  0.0685],\n",
      "        [-0.0763,  0.0679],\n",
      "        [-0.0754,  0.0693]], grad_fn=<MmBackward0>)\n"
     ]
    }
   ],
   "source": [
    "torch.manual_seed(789)\n",
    "sa_v2 = SelfAttention_v2(d_in, d_out)\n",
    "print(sa_v2(inputs))"
   ]
  }
 ],
 "metadata": {
  "kernelspec": {
   "display_name": "Python 3",
   "language": "python",
   "name": "python3"
  },
  "language_info": {
   "codemirror_mode": {
    "name": "ipython",
    "version": 3
   },
   "file_extension": ".py",
   "mimetype": "text/x-python",
   "name": "python",
   "nbconvert_exporter": "python",
   "pygments_lexer": "ipython3",
   "version": "3.11.3"
  }
 },
 "nbformat": 4,
 "nbformat_minor": 5
}
