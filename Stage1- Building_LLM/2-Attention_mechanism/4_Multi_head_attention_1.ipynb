{
 "cells": [
  {
   "cell_type": "markdown",
   "id": "e7964b84",
   "metadata": {},
   "source": [
    "Import required libraries"
   ]
  },
  {
   "cell_type": "code",
   "execution_count": 47,
   "id": "c44a8fc5",
   "metadata": {},
   "outputs": [],
   "source": [
    "import torch\n",
    "import torch.nn as nn"
   ]
  },
  {
   "cell_type": "markdown",
   "id": "665eb61a",
   "metadata": {},
   "source": [
    "Consider below vector embeddings for simplicity"
   ]
  },
  {
   "cell_type": "code",
   "execution_count": 48,
   "id": "a3d8cd81",
   "metadata": {},
   "outputs": [],
   "source": [
    "inputs = torch.tensor([\n",
    " [0.43, 0.15, 0.89],\n",
    " [0.55, 0.87, 0.66],\n",
    " [0.57, 0.85, 0.64],\n",
    " [0.22, 0.58, 0.33],\n",
    " [0.77, 0.25, 0.10],\n",
    " [0.05, 0.80, 0.55]\n",
    "]\n",
    ")"
   ]
  },
  {
   "cell_type": "markdown",
   "id": "fe80d369",
   "metadata": {},
   "source": [
    "Initiate varibales"
   ]
  },
  {
   "cell_type": "code",
   "execution_count": 49,
   "id": "1ee834cf",
   "metadata": {},
   "outputs": [],
   "source": [
    "x_2 = inputs[1]\n",
    "d_in = inputs.shape[1]\n",
    "d_out = 2\n",
    "dropout = 0.5"
   ]
  },
  {
   "cell_type": "markdown",
   "id": "94314997",
   "metadata": {},
   "source": [
    "Implementing causual attention class including handling of batches"
   ]
  },
  {
   "cell_type": "markdown",
   "id": "4b3e0fe9",
   "metadata": {},
   "source": [
    "Create a dummy batch"
   ]
  },
  {
   "cell_type": "code",
   "execution_count": 50,
   "id": "fd4d25a5",
   "metadata": {},
   "outputs": [
    {
     "name": "stdout",
     "output_type": "stream",
     "text": [
      "torch.Size([2, 6, 3])\n"
     ]
    }
   ],
   "source": [
    "batch = torch.stack((inputs, inputs), dim=0)\n",
    "print(batch.shape)"
   ]
  },
  {
   "cell_type": "code",
   "execution_count": 51,
   "id": "7b88956c",
   "metadata": {},
   "outputs": [],
   "source": [
    "class CausalAttention(nn.Module):\n",
    "    \n",
    "    def __init__(self, d_in,d_out,context_length,dropout, qkv_bias = False):\n",
    "        super().__init__()\n",
    "        self.d_out = d_out\n",
    "        self.W_query = nn.Linear(d_in, d_out, bias=qkv_bias)\n",
    "        self.W_key = nn.Linear(d_in, d_out, bias=qkv_bias)\n",
    "        self.W_value = nn.Linear(d_in, d_out, bias=qkv_bias)\n",
    "        self.dropout = nn.Dropout(dropout)\n",
    "        self.register_buffer(\"mask\", torch.tril(torch.ones(context_length, context_length),diagonal=1))\n",
    "\n",
    "    def forward(self, x):\n",
    "        b, num_tokens, d_in = x.shape\n",
    "        keys = self.W_key(x)\n",
    "        queries = self.W_query(x)\n",
    "        values = self.W_value(x)\n",
    "\n",
    "        atten_scores = queries @ keys.transpose(1,2)\n",
    "        atten_scores.masked_fill_(self.mask.bool()[:num_tokens, :num_tokens],-torch.inf) # `:num_tokens` to account for cases where the number of tokens in the batch is smaller than the supported context_size\n",
    "        atten_weights = torch.softmax(atten_scores / keys.shape[-1]**0.5, dim=-1)\n",
    "        atten_weights = self.dropout(atten_weights)\n",
    "        context_vector = atten_weights @ values\n",
    "        return context_vector\n"
   ]
  },
  {
   "cell_type": "markdown",
   "id": "8d859496",
   "metadata": {},
   "source": [
    "Extending single head attention to multi-head attention"
   ]
  },
  {
   "cell_type": "code",
   "execution_count": 52,
   "id": "71a63546",
   "metadata": {},
   "outputs": [],
   "source": [
    "class MultiheadAttentionWrapper(nn.Module):\n",
    "\n",
    "    def __init__(self,d_in,d_out,context_length,dropout,num_heads = 2,qkvbias = False):\n",
    "        super().__init__()\n",
    "        self.heads = nn.ModuleList(\n",
    "            [CausalAttention(d_in,d_out,context_length,dropout,qkvbias) \n",
    "             for _ in range(num_heads)]\n",
    "        )\n",
    "\n",
    "    def forward(self,x):\n",
    "        return torch.cat([head(x) for head in self.heads], dim=-1)"
   ]
  },
  {
   "cell_type": "code",
   "execution_count": 53,
   "id": "308c916f",
   "metadata": {},
   "outputs": [
    {
     "name": "stdout",
     "output_type": "stream",
     "text": [
      "torch.Size([2, 6, 4])\n"
     ]
    }
   ],
   "source": [
    "torch.manual_seed(123)\n",
    "context_length = batch.shape[1]\n",
    "d_in,d_out = 3,2\n",
    "mha = MultiheadAttentionWrapper(d_in, d_out, context_length, dropout, num_heads=2, qkvbias=False)\n",
    "context_vecs = mha(batch)\n",
    "print(context_vecs.shape)  # Should be (batch_size, num_tokens, d_out\n"
   ]
  }
 ],
 "metadata": {
  "kernelspec": {
   "display_name": "Python 3",
   "language": "python",
   "name": "python3"
  },
  "language_info": {
   "codemirror_mode": {
    "name": "ipython",
    "version": 3
   },
   "file_extension": ".py",
   "mimetype": "text/x-python",
   "name": "python",
   "nbconvert_exporter": "python",
   "pygments_lexer": "ipython3",
   "version": "3.11.3"
  }
 },
 "nbformat": 4,
 "nbformat_minor": 5
}
